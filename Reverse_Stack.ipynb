{
  "nbformat": 4,
  "nbformat_minor": 0,
  "metadata": {
    "colab": {
      "name": "Reverse Stack.ipynb",
      "provenance": [],
      "collapsed_sections": []
    },
    "kernelspec": {
      "name": "python3",
      "display_name": "Python 3"
    },
    "language_info": {
      "name": "python"
    }
  },
  "cells": [
    {
      "cell_type": "code",
      "metadata": {
        "colab": {
          "base_uri": "https://localhost:8080/"
        },
        "id": "AH2LMb0TWMI5",
        "outputId": "dce02788-73af-41f4-ad73-b95c245545bb"
      },
      "source": [
        "class Stack:\n",
        "  def __init__(self):\n",
        "    self.Elements = []\n",
        "  def push(self, value):\n",
        "    self.Elements.append(value)\n",
        "  def pop(self):\n",
        "    return self.Elements.pop()\n",
        "  def empty(self):\n",
        "    return self.Elements == []\n",
        "  def show(self):\n",
        "    for value in reversed(self.Elements):\n",
        "        print(value)\n",
        "def BottomInsert(s, value):\n",
        "  if s.empty():\n",
        "    s.push(value)\n",
        "  else:\n",
        "    popped = s.pop()\n",
        "    BottomInsert(s, value)\n",
        "    s.push(popped)\n",
        "def Reverse(s):\n",
        "  if s.empty():\n",
        "      pass\n",
        "  else:\n",
        "      popped = s.pop()\n",
        "      Reverse(s)\n",
        "      BottomInsert(s, popped)\n",
        "stk = Stack()\n",
        "\n",
        "stk.push(1)\n",
        "stk.push(2)\n",
        "stk.push(3)\n",
        "stk.push(4)\n",
        "stk.push(5)\n",
        "print(\"Original Stack\")\n",
        "stk.show()\n",
        "\n",
        "print(\"\\nStack after Reversing\")\n",
        "Reverse(stk)\n",
        "stk.show()\n",
        "            "
      ],
      "execution_count": 6,
      "outputs": [
        {
          "output_type": "stream",
          "text": [
            "Original Stack\n",
            "5\n",
            "4\n",
            "3\n",
            "2\n",
            "1\n",
            "\n",
            "Stack after Reversing\n",
            "1\n",
            "2\n",
            "3\n",
            "4\n",
            "5\n"
          ],
          "name": "stdout"
        }
      ]
    }
  ]
}