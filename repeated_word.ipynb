{
  "nbformat": 4,
  "nbformat_minor": 0,
  "metadata": {
    "colab": {
      "name": "repeated word.ipynb",
      "provenance": []
    },
    "kernelspec": {
      "name": "python3",
      "display_name": "Python 3"
    },
    "language_info": {
      "name": "python"
    }
  },
  "cells": [
    {
      "cell_type": "code",
      "metadata": {
        "colab": {
          "base_uri": "https://localhost:8080/"
        },
        "id": "CfcL5C2gJxSr",
        "outputId": "017a998d-cf23-4b2b-ee23-b87b903b061e"
      },
      "source": [
        "count = 0;\n",
        "word = 0;\n",
        "maxCount = 0;\n",
        "words = [];\n",
        "file = open(\"/Text.txt\", \"r\")\n",
        "for line in file:\n",
        "  string=line.lower().replace(',','').replace('.','').split(\" \");\n",
        "  for s in string:\n",
        "    words.append(s);\n",
        "for i in range(0, len(words)):\n",
        "  count = 1;\n",
        "  for j in range(i+1, len(words)):\n",
        "    if(words[i] == words[j]):\n",
        "      count = count + 1;\n",
        "  if(count > maxCount):\n",
        "    maxCount = count;\n",
        "    word = words[i];\n",
        "print(\"Most repeated word: \" + word);\n",
        "file.close();"
      ],
      "execution_count": null,
      "outputs": [
        {
          "output_type": "stream",
          "text": [
            "Most repeated word: am\n"
          ],
          "name": "stdout"
        }
      ]
    }
  ]
}