{
  "nbformat": 4,
  "nbformat_minor": 0,
  "metadata": {
    "colab": {
      "name": "quadrilateral.ipynb",
      "provenance": []
    },
    "kernelspec": {
      "name": "python3",
      "display_name": "Python 3"
    },
    "language_info": {
      "name": "python"
    }
  },
  "cells": [
    {
      "cell_type": "code",
      "metadata": {
        "id": "wENs9UQitXIq"
      },
      "source": [
        "import turtle\n",
        "\n",
        "size = input(\"choose the size\")\n",
        "sides = int(input(\"choose the number of sides(between 3 & 10):\"))\n",
        "angle = 360/sides\n",
        "clr =  input(\"enter a common color:\")\n",
        "\n",
        "def draw_polygon():\n",
        "  turtle.color(clr)\n",
        "  turtle.begin_fill()\n",
        "  for i in range(sides):\n",
        "    turtle.forward(size)\n",
        "    turtle.left(angle)\n",
        "  turtle.end_fill()\n",
        "  turtle.hideturtle()\n",
        "\n",
        "draw_polygon()\n",
        "\n",
        "\n"
      ],
      "execution_count": null,
      "outputs": []
    }
  ]
}