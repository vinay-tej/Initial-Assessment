{
  "nbformat": 4,
  "nbformat_minor": 0,
  "metadata": {
    "colab": {
      "name": "logtable.ipynb",
      "provenance": []
    },
    "kernelspec": {
      "name": "python3",
      "display_name": "Python 3"
    },
    "language_info": {
      "name": "python"
    }
  },
  "cells": [
    {
      "cell_type": "code",
      "metadata": {
        "id": "gUcbiYNIgR0H"
      },
      "source": [
        "import logging\n",
        "import re\n",
        "import csv\n",
        "import collections\n"
      ],
      "execution_count": 46,
      "outputs": []
    },
    {
      "cell_type": "code",
      "metadata": {
        "id": "of6n_xMUbgpp"
      },
      "source": [
        "f = open('/content/debug.log', 'r')\n",
        "data = []"
      ],
      "execution_count": 42,
      "outputs": []
    }
  ]
}